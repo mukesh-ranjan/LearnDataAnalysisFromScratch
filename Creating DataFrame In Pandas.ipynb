{
 "cells": [
  {
   "cell_type": "markdown",
   "metadata": {},
   "source": [
    "# Create DataFrames In Pandas"
   ]
  },
  {
   "cell_type": "code",
   "execution_count": null,
   "metadata": {},
   "outputs": [],
   "source": [
    "import pandas as pd"
   ]
  },
  {
   "cell_type": "markdown",
   "metadata": {},
   "source": [
    "#### 1. Create DataFrames using JSON Data"
   ]
  },
  {
   "cell_type": "code",
   "execution_count": 5,
   "metadata": {},
   "outputs": [],
   "source": [
    "fruitBowl={'Fruits':['Apple','Orange','Grapes','Banana'],\n",
    "          'Price':['100','150','200','60']}"
   ]
  },
  {
   "cell_type": "code",
   "execution_count": 9,
   "metadata": {},
   "outputs": [
    {
     "name": "stdout",
     "output_type": "stream",
     "text": [
      "   Fruits Price\n",
      "0   Apple   100\n",
      "1  Orange   150\n",
      "2  Grapes   200\n",
      "3  Banana    60\n"
     ]
    },
    {
     "data": {
      "text/plain": [
       "pandas.core.frame.DataFrame"
      ]
     },
     "execution_count": 9,
     "metadata": {},
     "output_type": "execute_result"
    }
   ],
   "source": [
    "dfJson=pd.DataFrame(fruitBowl)\n",
    "print(dfJson)\n",
    "type(dfJson)"
   ]
  },
  {
   "cell_type": "markdown",
   "metadata": {},
   "source": [
    "#### 2. Create DataFrames Using List"
   ]
  },
  {
   "cell_type": "code",
   "execution_count": 12,
   "metadata": {},
   "outputs": [],
   "source": [
    "fruitLst=['Apple','Orange','Grapes']\n",
    "price=['100','200','300']"
   ]
  },
  {
   "cell_type": "code",
   "execution_count": 15,
   "metadata": {},
   "outputs": [
    {
     "name": "stdout",
     "output_type": "stream",
     "text": [
      "   Fruits Price\n",
      "0   Apple   100\n",
      "1  Orange   200\n",
      "2  Grapes   300\n"
     ]
    }
   ],
   "source": [
    "dfList=pd.DataFrame(list(zip(fruitLst,price)),columns=['Fruits','Price'])\n",
    "print(dfList)"
   ]
  },
  {
   "cell_type": "markdown",
   "metadata": {},
   "source": [
    "#### 3. Creating Multiple Columns DataFrame"
   ]
  },
  {
   "cell_type": "markdown",
   "metadata": {},
   "source": [
    "#### 4. Creating DataFrame From List Of JSON Data"
   ]
  },
  {
   "cell_type": "code",
   "execution_count": 16,
   "metadata": {},
   "outputs": [],
   "source": [
    "listJson=[{'Fruit':'Apple','Price':100},{'Fruit':'Orange','Price':200},{'Fruit':'Grapes','Price':300}]"
   ]
  },
  {
   "cell_type": "code",
   "execution_count": 17,
   "metadata": {},
   "outputs": [
    {
     "name": "stdout",
     "output_type": "stream",
     "text": [
      "    Fruit  Price\n",
      "0   Apple    100\n",
      "1  Orange    200\n",
      "2  Grapes    300\n"
     ]
    }
   ],
   "source": [
    "dfListJson=pd.DataFrame(listJson)\n",
    "print(dfListJson)"
   ]
  },
  {
   "cell_type": "markdown",
   "metadata": {},
   "source": [
    "#### 5. Creating DataFrame From CSV"
   ]
  },
  {
   "cell_type": "code",
   "execution_count": 21,
   "metadata": {},
   "outputs": [
    {
     "name": "stdout",
     "output_type": "stream",
     "text": [
      "   Fruits  Price\n",
      "0   Apple    100\n",
      "1  Orange    200\n",
      "2  Grapes    300\n"
     ]
    },
    {
     "data": {
      "text/plain": [
       "pandas.core.frame.DataFrame"
      ]
     },
     "execution_count": 21,
     "metadata": {},
     "output_type": "execute_result"
    }
   ],
   "source": [
    "dfCsv=pd.read_csv('Data/fruitBowl.csv')\n",
    "print(dfCsv)\n",
    "type(dfCsv)"
   ]
  },
  {
   "cell_type": "code",
   "execution_count": null,
   "metadata": {},
   "outputs": [],
   "source": []
  }
 ],
 "metadata": {
  "kernelspec": {
   "display_name": "Python 3",
   "language": "python",
   "name": "python3"
  },
  "language_info": {
   "codemirror_mode": {
    "name": "ipython",
    "version": 3
   },
   "file_extension": ".py",
   "mimetype": "text/x-python",
   "name": "python",
   "nbconvert_exporter": "python",
   "pygments_lexer": "ipython3",
   "version": "3.7.3"
  }
 },
 "nbformat": 4,
 "nbformat_minor": 2
}
